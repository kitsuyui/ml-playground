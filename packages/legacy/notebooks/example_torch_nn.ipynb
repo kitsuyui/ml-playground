{
 "cells": [
  {
   "cell_type": "code",
   "execution_count": 84,
   "metadata": {},
   "outputs": [
    {
     "data": {
      "text/plain": [
       "Linear(in_features=3, out_features=2, bias=True)"
      ]
     },
     "metadata": {},
     "output_type": "display_data"
    },
    {
     "data": {
      "text/plain": [
       "tensor([14., 20.])"
      ]
     },
     "metadata": {},
     "output_type": "display_data"
    },
    {
     "data": {
      "text/plain": [
       "tensor([14., 20.])"
      ]
     },
     "metadata": {},
     "output_type": "display_data"
    }
   ],
   "source": [
    "import torch\n",
    "import torch.nn as nn\n",
    "\n",
    "minimal_linear = nn.Linear(in_features=3, out_features=2)\n",
    "with torch.no_grad():\n",
    "    minimal_linear.weight.copy_(torch.tensor([[1., 2., 3.], [2., 3., 4.]]))\n",
    "    minimal_linear.bias.copy_(torch.tensor([0., 0.]))\n",
    "    actual = minimal_linear(torch.tensor([1., 2., 3.]))\n",
    "\n",
    "tobe = torch.tensor([14., 20.])\n",
    "display(minimal_linear)\n",
    "display(actual)\n",
    "display(tobe)\n",
    "assert torch.allclose(actual, tobe)"
   ]
  },
  {
   "cell_type": "code",
   "execution_count": 88,
   "metadata": {},
   "outputs": [
    {
     "data": {
      "text/plain": [
       "array([14., 20.])"
      ]
     },
     "metadata": {},
     "output_type": "display_data"
    }
   ],
   "source": [
    "# numpy version\n",
    "import numpy as np\n",
    "weight = np.array([[1., 2., 3.], [2., 3., 4.]])\n",
    "bias = np.array([0., 0.])\n",
    "input = np.array([1., 2., 3.])\n",
    "actual = np.matmul(weight, input) + bias\n",
    "tobe = np.array([14., 20.])\n",
    "display(actual)"
   ]
  }
 ],
 "metadata": {
  "kernelspec": {
   "display_name": ".venv",
   "language": "python",
   "name": "python3"
  },
  "language_info": {
   "codemirror_mode": {
    "name": "ipython",
    "version": 3
   },
   "file_extension": ".py",
   "mimetype": "text/x-python",
   "name": "python",
   "nbconvert_exporter": "python",
   "pygments_lexer": "ipython3",
   "version": "3.10.9"
  },
  "orig_nbformat": 4,
  "vscode": {
   "interpreter": {
    "hash": "2d6eb0901a0a4d43d6f8839af1fbf29d941d9bfe2ecefc439772fa863312fad6"
   }
  }
 },
 "nbformat": 4,
 "nbformat_minor": 2
}
