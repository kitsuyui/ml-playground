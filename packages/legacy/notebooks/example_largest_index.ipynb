{
 "cells": [
  {
   "cell_type": "code",
   "execution_count": 5,
   "metadata": {},
   "outputs": [
    {
     "name": "stdout",
     "output_type": "stream",
     "text": [
      "3.54 µs ± 4.55 ns per loop (mean ± std. dev. of 7 runs, 100,000 loops each)\n",
      "3.33 µs ± 6.26 ns per loop (mean ± std. dev. of 7 runs, 100,000 loops each)\n",
      "3.06 µs ± 10.5 ns per loop (mean ± std. dev. of 7 runs, 100,000 loops each)\n"
     ]
    }
   ],
   "source": [
    "# https://stackoverflow.com/questions/43386432/how-to-get-indexes-of-k-maximum-values-from-a-numpy-multidimensional-array\n",
    "import numpy as np\n",
    "\n",
    "\n",
    "def k_largest_index_argpartition_v1(a: np.ndarray, k: int) -> np.ndarray:\n",
    "    idx = np.argpartition(-a.ravel(), k)[:k]\n",
    "    return np.column_stack(np.unravel_index(idx, a.shape))\n",
    "\n",
    "\n",
    "def k_largest_index_argpartition_v2(a: np.ndarray, k: int) -> np.ndarray:\n",
    "    idx = np.argpartition(a.ravel(), a.size - k)[-k:]\n",
    "    return np.column_stack(np.unravel_index(idx, a.shape))\n",
    "\n",
    "\n",
    "def k_largest_index_argsort(a: np.ndarray, k: int) -> np.ndarray:\n",
    "    idx = np.argsort(a.ravel())[: -k - 1 : -1]\n",
    "    return np.column_stack(np.unravel_index(idx, a.shape))\n",
    "\n",
    "\n",
    "example_array = np.array([\n",
    "    [1, 2, 3],\n",
    "    [4, 5, 6],\n",
    "    [7, 8, 9],\n",
    "])\n",
    "tobe = np.array([\n",
    "    [2, 1],  # 8\n",
    "    [2, 2],  # 9\n",
    "    [2, 0],  # 7\n",
    "])\n",
    "tobe2 = np.array([\n",
    "    [2, 0],  # 7 \n",
    "    [2, 1],  # 8\n",
    "    [2, 2],  # 9\n",
    "])\n",
    "tobe3 = np.array([\n",
    "    [2, 2],  # 9\n",
    "    [2, 1],  # 8\n",
    "    [2, 0],  # 7\n",
    "])\n",
    "assert (k_largest_index_argpartition_v1(example_array, 3) == tobe).all()\n",
    "assert (k_largest_index_argpartition_v2(example_array, 3) == tobe2).all()\n",
    "assert (k_largest_index_argsort(example_array, 3) == tobe3).all()\n",
    "\n",
    "\n",
    "%timeit k_largest_index_argpartition_v1(example_array, 3)\n",
    "%timeit k_largest_index_argpartition_v2(example_array, 3)\n",
    "%timeit k_largest_index_argsort(example_array, 3)"
   ]
  },
  {
   "cell_type": "code",
   "execution_count": null,
   "metadata": {},
   "outputs": [],
   "source": []
  }
 ],
 "metadata": {
  "kernelspec": {
   "display_name": ".venv",
   "language": "python",
   "name": "python3"
  },
  "language_info": {
   "codemirror_mode": {
    "name": "ipython",
    "version": 3
   },
   "file_extension": ".py",
   "mimetype": "text/x-python",
   "name": "python",
   "nbconvert_exporter": "python",
   "pygments_lexer": "ipython3",
   "version": "3.10.9"
  },
  "orig_nbformat": 4,
  "vscode": {
   "interpreter": {
    "hash": "2d6eb0901a0a4d43d6f8839af1fbf29d941d9bfe2ecefc439772fa863312fad6"
   }
  }
 },
 "nbformat": 4,
 "nbformat_minor": 2
}
